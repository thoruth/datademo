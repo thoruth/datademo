{
 "cells": [
  {
   "cell_type": "code",
   "execution_count": 6,
   "id": "5bb757de",
   "metadata": {},
   "outputs": [],
   "source": [
    "import h5py\n",
    "import numpy as np\n",
    "import os\n",
    "from PIL import Image\n"
   ]
  },
  {
   "cell_type": "code",
   "execution_count": 7,
   "id": "e0bc8418",
   "metadata": {},
   "outputs": [],
   "source": [
    "\n",
    "def store_many_hdf5(images, labels, filename):\n",
    "    \"\"\" Stores an array of images to HDF5.\n",
    "        Parameters:\n",
    "        ---------------\n",
    "        images       images array, \n",
    "        labels       labels array,\n",
    "    \"\"\"\n",
    "    num_images = len(images)\n",
    "\n",
    "    # Create a new HDF5 file\n",
    "    file = h5py.File( f\"generated/{filename}\", \"w\")\n",
    "\n",
    "    # Create a dataset in the file\n",
    "    dataset = file.create_dataset(\n",
    "        \"images\", np.shape(images), h5py.h5t.STD_U8BE, data=images\n",
    "    )\n",
    "    meta_set = file.create_dataset(\n",
    "        \"meta\", np.shape(labels), h5py.h5t.STD_U8BE, data=labels\n",
    "    )\n",
    "    file.close() "
   ]
  },
  {
   "cell_type": "code",
   "execution_count": 12,
   "id": "881ab7c7",
   "metadata": {},
   "outputs": [],
   "source": [
    "def generate_many(amount, filename):\n",
    "    \"\"\" Copy N time an image and saves to a HDF5 file, and add a random label\n",
    "        Parameters:\n",
    "        ---------------\n",
    "        amount   number of times to copy\n",
    "        Returns:\n",
    "        ----------\n",
    "        labels      associated meta data, int label (N, 1)\n",
    "     \n",
    "    \"\"\"\n",
    "    img_path = 'cars.jpeg'\n",
    "    img_np = np.array(Image.open(img_path)) # images saved as N dimensional array \n",
    "    images = np.repeat([img_np], repeats=amount, axis=0)\n",
    "    labels = np.random.randint(10, size=amount) # labels can be any data. In this case this function saving integers\n",
    "    store_many_hdf5(images, labels, filename)\n",
    "    return labels\n",
    "    "
   ]
  },
  {
   "cell_type": "code",
   "execution_count": 32,
   "id": "fa7245c4",
   "metadata": {},
   "outputs": [],
   "source": [
    "def read_all_hdf5(filename):\n",
    "    \"\"\" Reads image from HDF5.\n",
    "        Parameters:\n",
    "        ---------------\n",
    "        num_images   number of images to read\n",
    "\n",
    "        Returns:\n",
    "        ----------\n",
    "        images      images array \n",
    "        labels      associated meta data, int label \n",
    "    \"\"\"\n",
    "    start = time.time()\n",
    "    images, labels = [], []\n",
    "\n",
    "    # Open the HDF5 file\n",
    "    file = h5py.File(f\"generated/{filename}\", \"r+\")\n",
    "\n",
    "    images = np.array(file[\"/images\"]).astype(\"uint8\")\n",
    "    labels = np.array(file[\"/meta\"]).astype(\"uint8\")\n",
    "    file.close()\n",
    "    fin = time.time()\n",
    "    print('process time', fin-start)\n",
    "    return images, labels"
   ]
  },
  {
   "cell_type": "code",
   "execution_count": 30,
   "id": "74194c53",
   "metadata": {},
   "outputs": [],
   "source": [
    "import time\n",
    "def read_hdf5_based_on_label(filename, ids):\n",
    "    start = time.time()\n",
    "    \"\"\" Reads image from HDF5.\n",
    "        Parameters:\n",
    "        ---------------\n",
    "        num_images   number of images to read\n",
    "\n",
    "        Returns:\n",
    "        ----------\n",
    "        images      images array, (N, 32, 32, 3) to be stored\n",
    "        labels      associated meta data, int label (N, 1)\n",
    "    \"\"\"\n",
    "    images, labels = [], []\n",
    "\n",
    "    # Open the HDF5 file\n",
    "    file = h5py.File(f\"generated/{filename}\", \"r+\")\n",
    "    meta = file[\"/meta\"]\n",
    "    \n",
    "    # search the specific indexes\n",
    "    label_index = meta[()] == ids\n",
    "    images = file[\"/images\"]\n",
    "\n",
    "    indexes = [index for index, value in enumerate(label_index) if value ]\n",
    "    result = [images[index] for index in indexes ]\n",
    "    np_result = np.array(result).astype(\"uint8\")\n",
    "    file.close()\n",
    "    fin = time.time()\n",
    "    print('process time', fin-start)\n",
    "    return  np_result"
   ]
  },
  {
   "cell_type": "markdown",
   "id": "ca2da1d9",
   "metadata": {},
   "source": [
    "# generate data"
   ]
  },
  {
   "cell_type": "code",
   "execution_count": 13,
   "id": "0a713ff8",
   "metadata": {
    "scrolled": true
   },
   "outputs": [
    {
     "data": {
      "text/plain": [
       "array([4, 3, 7, 8, 1, 9, 8, 6, 7, 9, 8, 2, 3, 1, 2, 7, 4, 1, 7, 6, 5, 1,\n",
       "       6, 0, 1, 1, 8, 9, 9, 1, 8, 9, 8, 9, 4, 4, 2, 7, 3, 8, 8, 3, 7, 5,\n",
       "       5, 0, 7, 5, 1, 8, 6, 8, 4, 2, 7, 3, 9, 9, 8, 2, 5, 0, 1, 8, 8, 6,\n",
       "       3, 0, 4, 7, 3, 3, 4, 6, 7, 0, 4, 4, 1, 3, 5, 9, 9, 2, 3, 5, 7, 0,\n",
       "       9, 6, 2, 6, 2, 6, 0, 2, 4, 0, 4, 2])"
      ]
     },
     "execution_count": 13,
     "metadata": {},
     "output_type": "execute_result"
    }
   ],
   "source": [
    "generate_many(100, 'output.hdf5')"
   ]
  },
  {
   "cell_type": "markdown",
   "id": "2525d3dd",
   "metadata": {},
   "source": [
    "# read example"
   ]
  },
  {
   "cell_type": "code",
   "execution_count": 33,
   "id": "bc7782c7",
   "metadata": {},
   "outputs": [
    {
     "name": "stdout",
     "output_type": "stream",
     "text": [
      "process time 0.6953904628753662\n"
     ]
    },
    {
     "data": {
      "text/plain": [
       "15103200"
      ]
     },
     "execution_count": 33,
     "metadata": {},
     "output_type": "execute_result"
    }
   ],
   "source": [
    "read_all_hdf5('output.hdf5')[0].size"
   ]
  },
  {
   "cell_type": "code",
   "execution_count": 29,
   "id": "15f4d44e",
   "metadata": {
    "scrolled": false
   },
   "outputs": [
    {
     "name": "stdout",
     "output_type": "stream",
     "text": [
      "0.21500349044799805\n",
      "number of images 10\n",
      "one image np array representation: [[[[255 255 255]\n",
      "   [255 255 255]\n",
      "   [255 255 255]\n",
      "   ...\n",
      "   [255 255 255]\n",
      "   [255 255 255]\n",
      "   [255 255 255]]\n",
      "\n",
      "  [[255 255 255]\n",
      "   [255 255 255]\n",
      "   [255 255 255]\n",
      "   ...\n",
      "   [255 255 255]\n",
      "   [255 255 255]\n",
      "   [255 255 255]]\n",
      "\n",
      "  [[255 255 255]\n",
      "   [255 255 255]\n",
      "   [255 255 255]\n",
      "   ...\n",
      "   [255 255 255]\n",
      "   [255 255 255]\n",
      "   [255 255 255]]\n",
      "\n",
      "  ...\n",
      "\n",
      "  [[255 255 255]\n",
      "   [255 255 255]\n",
      "   [255 255 255]\n",
      "   ...\n",
      "   [255 255 255]\n",
      "   [255 255 255]\n",
      "   [255 255 255]]\n",
      "\n",
      "  [[255 255 255]\n",
      "   [255 255 255]\n",
      "   [255 255 255]\n",
      "   ...\n",
      "   [255 255 255]\n",
      "   [255 255 255]\n",
      "   [255 255 255]]\n",
      "\n",
      "  [[255 255 255]\n",
      "   [255 255 255]\n",
      "   [255 255 255]\n",
      "   ...\n",
      "   [255 255 255]\n",
      "   [255 255 255]\n",
      "   [255 255 255]]]]\n"
     ]
    }
   ],
   "source": [
    "data = read_hdf5_based_on_label('output.hdf5',1)\n",
    "print('number of images' , len(data)) \n",
    "\n",
    "print('one image np array representation:', data[:1]) "
   ]
  },
  {
   "cell_type": "markdown",
   "id": "cdd0743b",
   "metadata": {},
   "source": [
    "Here clearly an index based read is faster"
   ]
  },
  {
   "cell_type": "code",
   "execution_count": null,
   "id": "b3c60fa5",
   "metadata": {},
   "outputs": [],
   "source": []
  }
 ],
 "metadata": {
  "kernelspec": {
   "display_name": "Python 3 (ipykernel)",
   "language": "python",
   "name": "python3"
  },
  "language_info": {
   "codemirror_mode": {
    "name": "ipython",
    "version": 3
   },
   "file_extension": ".py",
   "mimetype": "text/x-python",
   "name": "python",
   "nbconvert_exporter": "python",
   "pygments_lexer": "ipython3",
   "version": "3.9.10"
  }
 },
 "nbformat": 4,
 "nbformat_minor": 5
}
