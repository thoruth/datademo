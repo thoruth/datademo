{
 "cells": [
  {
   "cell_type": "markdown",
   "id": "137fa20a",
   "metadata": {},
   "source": [
    "# ref https://docs.sqlalchemy.org/en/14/orm/basic_relationships.html"
   ]
  },
  {
   "cell_type": "markdown",
   "id": "31246a36",
   "metadata": {},
   "source": [
    "# Database schema initalization"
   ]
  },
  {
   "cell_type": "code",
   "execution_count": 1,
   "id": "aa5d9a55",
   "metadata": {},
   "outputs": [],
   "source": [
    "from sqlalchemy import orm, Column, Integer, ForeignKey\n",
    "from sqlalchemy.ext.declarative import declarative_base\n",
    "import sqlalchemy as sa\n",
    "from sqlalchemy.orm import relationship, sessionmaker\n",
    "\n",
    "\n",
    "base = declarative_base()\n",
    "engine = sa.create_engine('postgresql+psycopg2://postgres:password@db/postgres')\n",
    "base.metadata.bind = engine\n",
    "session = orm.scoped_session(orm.sessionmaker())(bind=engine)\n",
    "\n",
    "class Recording(base):\n",
    "    __tablename__ = 'recording' \n",
    "    id = sa.Column(sa.Integer,primary_key=True)\n",
    "    location = sa.Column(sa.String(255))\n",
    "    sensors = relationship(\"Sensordata\", back_populates=\"recording\")\n",
    "    footages = relationship(\"Footage\", back_populates=\"recording\")\n",
    "    \n",
    "\n",
    "class Footage(base):\n",
    "    __tablename__ = 'footage' \n",
    "    id = sa.Column(sa.Integer,primary_key=True)\n",
    "    footage_type = sa.Column(sa.String(255))\n",
    "    filename = sa.Column(sa.String(255))\n",
    "    labels = relationship(\"Label\", back_populates=\"footage\")\n",
    "    recording = relationship(\"Recording\", back_populates=\"footages\")\n",
    "    recording_id = Column(Integer, ForeignKey('recording.id'))\n",
    "\n",
    "\n",
    "\n",
    "class Sensordata(base):\n",
    "    __tablename__ = 'sensor' \n",
    "    id = sa.Column(sa.Integer,primary_key=True)\n",
    "    timestamp = sa.Column(sa.Integer)\n",
    "    relative_timestamp = sa.Column(sa.Integer)\n",
    "    metric_type = sa.Column(sa.String(255))\n",
    "    metric_value = sa.Column(sa.Float)\n",
    "    recording = relationship(\"Recording\", back_populates=\"sensors\")\n",
    "    recording_id = Column(Integer, ForeignKey('recording.id'))\n",
    "\n",
    "class Label(base):\n",
    "    __tablename__ = 'label' \n",
    "    id = sa.Column(sa.Integer,primary_key=True)\n",
    "    timestamp = sa.Column(sa.Integer)\n",
    "    relative_timestamp = sa.Column(sa.Integer)\n",
    "    footage = relationship(\"Footage\", back_populates=\"labels\")\n",
    "    label_type = sa.Column(sa.String(255),)\n",
    "    label_certainty = sa.Column(sa.Float)    \n",
    "    footage_id = Column(Integer, ForeignKey('footage.id'))\n",
    "\n",
    "base.metadata.create_all()\n",
    "\n",
    "Session = sessionmaker(bind=engine) # session maker for connecting to the db later\n"
   ]
  },
  {
   "cell_type": "markdown",
   "id": "8d341cc0",
   "metadata": {},
   "source": [
    "# Full load database initalization"
   ]
  },
  {
   "cell_type": "code",
   "execution_count": 2,
   "id": "d15a63c4",
   "metadata": {},
   "outputs": [],
   "source": [
    "import random\n",
    "import tqdm"
   ]
  },
  {
   "cell_type": "code",
   "execution_count": 3,
   "id": "3247c61d",
   "metadata": {},
   "outputs": [
    {
     "name": "stderr",
     "output_type": "stream",
     "text": [
      "100%|██████████| 3/3 [00:01<00:00,  2.98it/s]\n"
     ]
    }
   ],
   "source": [
    "NUMBER_OF_SECONDS_OF_DATA = 50\n",
    "NUMBER_RECORDINGS = 3\n",
    "\n",
    "LOCATION_A = 'Budapest'\n",
    "LOCATION_B =  'Vienna'\n",
    "\n",
    "SENSOR_TYPES = ['speed', 'acceleration']\n",
    "LABEL_TYPES = ['pedestrian', 'animal', 'car', 'motor', 'street_sign']\n",
    "FOOTAGE_TYPES = ['front', 'back']\n",
    "\n",
    "\n",
    "RANDOM_UNIXTIMESTAMP_MIN = 1647270461 # Mon Mar 14 2022 15:07:41 GMT+0000\n",
    "RANDOM_UNIXTIMESTAMP_MAX = 1647356861 # Tue Mar 15 2022 15:07:41 GMT+0000\n",
    "\n",
    "\n",
    "\n",
    "session = Session()\n",
    "\n",
    "with Session() as session:\n",
    "\n",
    "    for _ in tqdm.tqdm(range(NUMBER_RECORDINGS)):\n",
    "        # Create recording\n",
    "        location = LOCATION_A if random.randint(0,1)  else LOCATION_B\n",
    "        recording = Recording(location=location)\n",
    "        start_time = random.randint(RANDOM_UNIXTIMESTAMP_MIN,RANDOM_UNIXTIMESTAMP_MAX)\n",
    "\n",
    "        for x in range(NUMBER_OF_SECONDS_OF_DATA):\n",
    "            # Create sensor data\n",
    "            for sensor_type in SENSOR_TYPES:\n",
    "                value = random.random() * 10 # float value beetween 0, 10\n",
    "                sensor_data = Sensordata(timestamp=start_time+x, relative_timestamp=x, metric_type=sensor_type, metric_value=value)\n",
    "                recording.sensors.append(sensor_data)\n",
    "\n",
    "        # create Footage\n",
    "        session.add(recording)\n",
    "        session.commit()\n",
    "        for footage_type in FOOTAGE_TYPES:\n",
    "            filename = f'{recording.id}-{start_time}-{footage_type}.hdf5'\n",
    "            footage = Footage(footage_type=footage_type, filename=filename, recording=recording)\n",
    "\n",
    "            for x in range(NUMBER_OF_SECONDS_OF_DATA):\n",
    "\n",
    "                for label_type in LABEL_TYPES:\n",
    "                    if random.random() < 0.2: # not all frames or labeled\n",
    "\n",
    "                        label = Label(timestamp=start_time+x, relative_timestamp=x, label_type=label_type, label_certainty=random.random())\n",
    "                        footage.labels.append(label)\n",
    "\n",
    "\n",
    "\n",
    "            session.add(footage)\n",
    "            session.commit()\n"
   ]
  },
  {
   "cell_type": "markdown",
   "id": "83660317",
   "metadata": {},
   "source": [
    "# query"
   ]
  },
  {
   "cell_type": "markdown",
   "id": "8040be12",
   "metadata": {},
   "source": [
    "## for each recfile list the 5 label classes with the highest confidence\n",
    "### for footage\n"
   ]
  },
  {
   "cell_type": "code",
   "execution_count": 8,
   "id": "0eed2d35",
   "metadata": {
    "scrolled": true
   },
   "outputs": [
    {
     "name": "stdout",
     "output_type": "stream",
     "text": [
      "(20, 10, 'back', '10-1647296023-back.hdf', 'motor', 0.936175619818008)\n",
      "(19, 10, 'front', '10-1647296023-front.hdf', 'motor', 0.8369814713970877)\n",
      "(34, 17, 'back', '17-1647333371-back.hdf', 'motor', 0.9798287927143029)\n",
      "(1, 1, 'front', '1-1647330719-front.hdf', 'car', 0.9634154455041045)\n",
      "(36, 18, 'back', '18-1647275149-back.hdf', 'pedestrian', 0.924015692791155)\n",
      "(40, 20, 'back', '20-1647307966-back.hdf', 'car', 0.9806641976041778)\n",
      "(8, 4, 'back', '4-1647354068-back.hdf', 'animal', 0.9850040167382416)\n",
      "(12, 6, 'back', '6-1647290149-back.hdf', 'motor', 0.9564814142968693)\n",
      "(30, 15, 'back', '15-1647306949-back.hdf', 'animal', 0.9966556635422761)\n",
      "(25, 13, 'front', '13-1647341541-front.hdf', 'street_sign', 0.9738128757319061)\n",
      "(11, 6, 'front', '6-1647290149-front.hdf', 'car', 0.9867421686830888)\n",
      "(24, 12, 'back', '12-1647271962-back.hdf', 'motor', 0.8346346950122534)\n"
     ]
    }
   ],
   "source": [
    "with Session() as session: # create a context, so the session will be cloed in the end\n",
    "    query = \"\"\" \n",
    "    SELECT Footage.id, Footage.recording_id, Footage.footage_type, Footage.filename, label.label_type, label.max_label_certainty\n",
    "    FROM footage\n",
    "    INNER JOIN\n",
    "        (SELECT label_type, footage_id, max(label_certainty) as max_label_certainty\n",
    "        FROM Label\n",
    "        GROUP BY label_type, footage_id\n",
    "            ) label\n",
    "    ON footage.id=label.footage_id\n",
    "    \"\"\"\n",
    "    res = session.execute(query)\n",
    "\n",
    "\n",
    "    for idx, row in enumerate(res):\n",
    "        print(row)\n",
    "        if idx >10: break # comment if all the values are needed\n",
    "\n"
   ]
  },
  {
   "cell_type": "markdown",
   "id": "ed7e5784",
   "metadata": {},
   "source": [
    "### for a recording in general"
   ]
  },
  {
   "cell_type": "code",
   "execution_count": 9,
   "id": "9fc284cf",
   "metadata": {},
   "outputs": [
    {
     "name": "stdout",
     "output_type": "stream",
     "text": [
      "(1, 'Budapest', 1, 1, 'front', '1-1647330719-front.hdf', 'motor', 0.9438593555048512)\n",
      "(1, 'Budapest', 2, 1, 'back', '1-1647330719-back.hdf', 'motor', 0.7797017971611884)\n",
      "(1, 'Budapest', 2, 1, 'back', '1-1647330719-back.hdf', 'car', 0.958325173443521)\n",
      "(1, 'Budapest', 1, 1, 'front', '1-1647330719-front.hdf', 'pedestrian', 0.9710128750528997)\n",
      "(1, 'Budapest', 1, 1, 'front', '1-1647330719-front.hdf', 'street_sign', 0.9444887615143189)\n",
      "(1, 'Budapest', 2, 1, 'back', '1-1647330719-back.hdf', 'animal', 0.9206772801231674)\n",
      "(1, 'Budapest', 2, 1, 'back', '1-1647330719-back.hdf', 'pedestrian', 0.9278264015704876)\n",
      "(1, 'Budapest', 1, 1, 'front', '1-1647330719-front.hdf', 'animal', 0.9955097698630524)\n",
      "(1, 'Budapest', 2, 1, 'back', '1-1647330719-back.hdf', 'street_sign', 0.9347764433335419)\n",
      "(1, 'Budapest', 1, 1, 'front', '1-1647330719-front.hdf', 'car', 0.9634154455041045)\n",
      "(2, 'Budapest', 4, 2, 'back', '2-1647334174-back.hdf', 'motor', 0.9303953693659194)\n",
      "(2, 'Budapest', 4, 2, 'back', '2-1647334174-back.hdf', 'street_sign', 0.9970721677300127)\n"
     ]
    }
   ],
   "source": [
    "with Session() as session:\n",
    "    query =\"\"\"\n",
    "    SELECT *\n",
    "    FROM recording\n",
    "    INNER JOIN\n",
    "        (SELECT Footage.id, Footage.recording_id, Footage.footage_type, Footage.filename, label.label_type, label.max_label_certainty\n",
    "            FROM footage\n",
    "            INNER JOIN\n",
    "                (SELECT label_type, footage_id, max(label_certainty) as max_label_certainty\n",
    "                FROM Label\n",
    "                GROUP BY label_type, footage_id\n",
    "                    ) label\n",
    "            ON footage.id=label.footage_id\n",
    "        ) inner_table\n",
    "    ON recording.id = inner_table.recording_id\n",
    "    \"\"\"\n",
    "\n",
    "    res = session.execute(query)\n",
    "\n",
    "\n",
    "    for idx, row in enumerate(res):\n",
    "        print(row)\n",
    "        if idx >10: break # comment if all the values are needed\n"
   ]
  },
  {
   "cell_type": "markdown",
   "id": "009b3ff1",
   "metadata": {},
   "source": [
    "## find the recfile which has the most labels with at least 0.6 confidence"
   ]
  },
  {
   "cell_type": "code",
   "execution_count": 15,
   "id": "c5e7535f",
   "metadata": {},
   "outputs": [
    {
     "name": "stdout",
     "output_type": "stream",
     "text": [
      "(36, 'back', '18-1647275149-back.hdf', 'street_sign', 16)\n",
      "(35, 'front', '18-1647275149-front.hdf', 'street_sign', 15)\n",
      "(28, 'back', '14-1647342929-back.hdf', 'car', 15)\n",
      "(13, 'front', '7-1647322233-front.hdf', 'street_sign', 14)\n",
      "(40, 'back', '20-1647307966-back.hdf', 'car', 14)\n",
      "(33, 'front', '17-1647333371-front.hdf', 'car', 14)\n",
      "(12, 'back', '6-1647290149-back.hdf', 'pedestrian', 13)\n",
      "(36, 'back', '18-1647275149-back.hdf', 'animal', 13)\n",
      "(40, 'back', '20-1647307966-back.hdf', 'animal', 13)\n",
      "(23, 'front', '12-1647271962-front.hdf', 'car', 13)\n",
      "(37, 'front', '19-1647327084-front.hdf', 'animal', 13)\n",
      "(8, 'back', '4-1647354068-back.hdf', 'animal', 13)\n"
     ]
    }
   ],
   "source": [
    "with Session() as session:\n",
    "\n",
    "    query ='''\n",
    "    SELECT Footage.id, Footage.footage_type, Footage.filename, l.label_type, label_certainty_count\n",
    "    FROM footage\n",
    "    INNER JOIN(\n",
    "        SELECT label_type, count(label_certainty) as label_certainty_count, footage_id\n",
    "            FROM Label\n",
    "            WHERE label_certainty>0.6\n",
    "            group by  label_type, footage_id\n",
    "            ) l\n",
    "    ON footage.id=l.footage_id\n",
    "    ORDER BY label_certainty_count desc\n",
    "\n",
    "    '''\n",
    "\n",
    "    res = session.execute(query)\n",
    "\n",
    "\n",
    "    for idx, row in enumerate(res):\n",
    "        print(row)\n",
    "        if idx >10: break # comment if all the values are needed\n",
    "        "
   ]
  },
  {
   "cell_type": "code",
   "execution_count": 14,
   "id": "d518fff0",
   "metadata": {},
   "outputs": [
    {
     "name": "stdout",
     "output_type": "stream",
     "text": [
      "(18, 'Vienna', 18, 36, 'back', '18-1647275149-back.hdf', 'street_sign', 16)\n",
      "(18, 'Vienna', 18, 35, 'front', '18-1647275149-front.hdf', 'street_sign', 15)\n",
      "(14, 'Vienna', 14, 28, 'back', '14-1647342929-back.hdf', 'car', 15)\n",
      "(20, 'Vienna', 20, 40, 'back', '20-1647307966-back.hdf', 'car', 14)\n",
      "(7, 'Vienna', 7, 13, 'front', '7-1647322233-front.hdf', 'street_sign', 14)\n",
      "(17, 'Budapest', 17, 33, 'front', '17-1647333371-front.hdf', 'car', 14)\n",
      "(20, 'Vienna', 20, 40, 'back', '20-1647307966-back.hdf', 'animal', 13)\n",
      "(18, 'Vienna', 18, 36, 'back', '18-1647275149-back.hdf', 'animal', 13)\n",
      "(19, 'Budapest', 19, 37, 'front', '19-1647327084-front.hdf', 'animal', 13)\n",
      "(6, 'Vienna', 6, 12, 'back', '6-1647290149-back.hdf', 'pedestrian', 13)\n",
      "(4, 'Vienna', 4, 8, 'back', '4-1647354068-back.hdf', 'animal', 13)\n",
      "(12, 'Budapest', 12, 23, 'front', '12-1647271962-front.hdf', 'car', 13)\n"
     ]
    }
   ],
   "source": [
    "with Session() as session:\n",
    "\n",
    "    query ='''\n",
    "    SELECT *\n",
    "    FROM recording\n",
    "    INNER JOIN(\n",
    "            SELECT Footage.recording_id, Footage.id, Footage.footage_type, Footage.filename, l.label_type, label_certainty_count\n",
    "            FROM footage\n",
    "            INNER JOIN(\n",
    "                SELECT label_type, count(label_certainty) as label_certainty_count, footage_id\n",
    "                    FROM Label\n",
    "                    WHERE label_certainty>0.6\n",
    "                    group by  label_type, footage_id\n",
    "                    ) l\n",
    "            ON footage.id=l.footage_id\n",
    "        ) inner_select\n",
    "    ON inner_select.recording_id = recording.id\n",
    "    ORDER BY label_certainty_count desc\n",
    "    '''\n",
    "\n",
    "    res = session.execute(query)\n",
    "\n",
    "\n",
    "    for idx, row in enumerate(res):\n",
    "        print(row)\n",
    "        if idx >10: break # comment if all the values are needed"
   ]
  },
  {
   "cell_type": "code",
   "execution_count": null,
   "id": "9b9c02e9",
   "metadata": {},
   "outputs": [],
   "source": []
  }
 ],
 "metadata": {
  "kernelspec": {
   "display_name": "Python 3 (ipykernel)",
   "language": "python",
   "name": "python3"
  },
  "language_info": {
   "codemirror_mode": {
    "name": "ipython",
    "version": 3
   },
   "file_extension": ".py",
   "mimetype": "text/x-python",
   "name": "python",
   "nbconvert_exporter": "python",
   "pygments_lexer": "ipython3",
   "version": "3.9.10"
  }
 },
 "nbformat": 4,
 "nbformat_minor": 5
}
